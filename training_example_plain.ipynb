{
 "cells": [
  {
   "cell_type": "code",
   "execution_count": 1,
   "id": "ec31851a-3b4e-4db0-bdad-e2be13979bc0",
   "metadata": {
    "tags": []
   },
   "outputs": [
    {
     "name": "stdout",
     "output_type": "stream",
     "text": [
      "jax backend cpu\n"
     ]
    }
   ],
   "source": [
    "import os\n",
    "os.environ[\"XLA_PYTHON_CLIENT_PREALLOCATE\"] = \"false\"\n",
    "os.environ[\"XLA_PYTHON_CLIENT_MEM_FRACTION\"] = \".XX\"\n",
    "os.environ[\"XLA_PYTHON_CLIENT_ALLOCATOR\"] = \"platform\"\n",
    "from jax.lib import xla_bridge\n",
    "print(\"jax backend {}\".format(xla_bridge.get_backend().platform))\n",
    "\n",
    "from SSN_classes import SSN_mid_local\n",
    "from training import new_two_stage_training\n"
   ]
  },
  {
   "cell_type": "code",
   "execution_count": 2,
   "id": "fbb98a99",
   "metadata": {},
   "outputs": [
    {
     "name": "stdout",
     "output_type": "stream",
     "text": [
      "Loading orientation map\n",
      "#### NOT SAVING! ####\n",
      "Training loss: 4.592606067657471 ¦ Validation -- loss: 4.752053260803223, true accuracy: 0.5199999809265137, at epoch 0, (time 29.33866262435913, 0.8253214359283447), \n",
      "Training accuracy: 0.5600000023841858, all losses[[1.8163034 ]\n",
      " [0.40785038]\n",
      " [0.57385534]\n",
      " [1.794597  ]\n",
      " [0.        ]\n",
      " [4.592606  ]]\n",
      "Training loss: 5.200352668762207 ¦ Validation -- loss: 4.8586225509643555, true accuracy: 0.46000000834465027, at epoch 1, (time 27.97824740409851, 0.8585772514343262), \n",
      "Training loss: 2.898557662963867 ¦ Validation -- loss: 3.1364803314208984, true accuracy: 0.6100000143051147, at epoch 20, (time 2.7406883239746094, 0.833280086517334), \n",
      "Entering second stage at epoch 20\n",
      "Training loss: 2.664638042449951 ¦ Validation -- loss: 2.89943790435791, true accuracy: 0.6600000262260437, at epoch 1, (time 2.7406883239746094, 2.9579193592071533)\n",
      "Training accuracy: 0.7099999785423279, all losses[[1.1163095e+00]\n",
      " [4.0583763e-01]\n",
      " [5.7432824e-01]\n",
      " [5.6810367e-01]\n",
      " [5.9097976e-05]\n",
      " [2.6646380e+00]]\n",
      "Training loss: 1.8780916929244995 ¦ Validation -- loss: 1.8716704845428467, true accuracy: 0.5600000023841858, at epoch 20, (time 2.7406883239746094, 2.6560678482055664)\n"
     ]
    }
   ],
   "source": [
    "from parameters import grid_pars, filter_pars, stimuli_pars, sig_pars, ssn_pars, conn_pars_m, conn_pars_s, ssn_layer_pars, conv_pars, training_pars, loss_pars\n",
    "# Calculate A by using the default find_A function of SSN_mid_local when A is undefined\n",
    "ssn_mid = SSN_mid_local(\n",
    "    ssn_pars=ssn_pars, # got c_E and c_I as new parameters\n",
    "    grid_pars=grid_pars,\n",
    "    conn_pars=conn_pars_m,\n",
    "    filter_pars=filter_pars,\n",
    "    J_2x2 = ssn_layer_pars.J_2x2_m,\n",
    "    gE = ssn_layer_pars.gE_m, \n",
    "    gI = ssn_layer_pars.gE_s\n",
    ")\n",
    "\n",
    "ssn_pars.A = ssn_mid.A\n",
    "if ssn_pars.phases == 4:\n",
    "    ssn_pars.A2 = ssn_mid.A2\n",
    "\n",
    "####################### TRAINING PARAMETERS #############################\n",
    "constant_ssn_pars = dict(\n",
    "    ssn_pars=ssn_pars,\n",
    "    grid_pars=grid_pars,\n",
    "    conn_pars_m=conn_pars_m,\n",
    "    conn_pars_s=conn_pars_s,\n",
    "    gE=ssn_layer_pars.gE,\n",
    "    gI=ssn_layer_pars.gI,\n",
    "    filter_pars=filter_pars,\n",
    "    conv_pars=conv_pars,# this got a lot of new stuff in it that might be a problem\n",
    "    loss_pars=loss_pars,\n",
    "    noise_type=\"poisson\",\n",
    ")\n",
    "########### TRAINING ############\n",
    "([ssn_layer_pars_dict, readout_pars],\n",
    "    val_loss_per_epoch,\n",
    "    training_losses,\n",
    "    training_accs,\n",
    "    train_sig_inputs,\n",
    "    train_sig_outputs,\n",
    "    val_sig_inputs,\n",
    "    val_sig_outputs,\n",
    "    epoch_c,\n",
    "    save_w_sigs) = new_two_stage_training(\n",
    "    ssn_layer_pars,\n",
    "    sig_pars,\n",
    "    training_pars,\n",
    "    constant_ssn_pars,\n",
    "    stimuli_pars,\n",
    "    extra_stop=2,\n",
    "    ssn_ori_map=ssn_mid.ori_map\n",
    "    )"
   ]
  },
  {
   "cell_type": "code",
   "execution_count": 3,
   "metadata": {},
   "outputs": [
    {
     "name": "stdout",
     "output_type": "stream",
     "text": [
      "[[ 1.8061436 -1.0813522]\n",
      " [ 3.8995733 -1.5859859]]\n",
      "[[ 1.935     -1.0062   ]\n",
      " [ 3.6377997 -1.7028   ]]\n",
      "[[ 4.1936073 -1.811531 ]\n",
      " [ 5.354159  -1.2934192]]\n",
      "[[ 4.4413204 -1.6582118]\n",
      " [ 5.0289063 -1.2416493]]\n"
     ]
    }
   ],
   "source": [
    "from training_supp import sep_exponentiate\n",
    "print(sep_exponentiate(ssn_layer_pars_dict['logJ_2x2'][0]))\n",
    "print(ssn_layer_pars.J_2x2_m)\n",
    "print(sep_exponentiate(ssn_layer_pars_dict['logJ_2x2'][1]))\n",
    "print(ssn_layer_pars.J_2x2_s)"
   ]
  }
 ],
 "metadata": {
  "kernelspec": {
   "display_name": "Python 3 (ipykernel)",
   "language": "python",
   "name": "python3"
  },
  "language_info": {
   "codemirror_mode": {
    "name": "ipython",
    "version": 3
   },
   "file_extension": ".py",
   "mimetype": "text/x-python",
   "name": "python",
   "nbconvert_exporter": "python",
   "pygments_lexer": "ipython3",
   "version": "3.10.13"
  }
 },
 "nbformat": 4,
 "nbformat_minor": 5
}
