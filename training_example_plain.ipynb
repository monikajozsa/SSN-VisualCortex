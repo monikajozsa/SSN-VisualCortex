{
 "cells": [
  {
   "cell_type": "code",
   "execution_count": 1,
   "id": "ec31851a-3b4e-4db0-bdad-e2be13979bc0",
   "metadata": {
    "tags": []
   },
   "outputs": [
    {
     "name": "stdout",
     "output_type": "stream",
     "text": [
      "jax backend cpu\n"
     ]
    }
   ],
   "source": [
    "import os\n",
    "os.environ[\"XLA_PYTHON_CLIENT_PREALLOCATE\"] = \"false\"\n",
    "os.environ[\"XLA_PYTHON_CLIENT_MEM_FRACTION\"] = \".XX\"\n",
    "os.environ[\"XLA_PYTHON_CLIENT_ALLOCATOR\"] = \"platform\"\n",
    "from jax.lib import xla_bridge\n",
    "print(\"jax backend {}\".format(xla_bridge.get_backend().platform))\n",
    "\n",
    "from SSN_classes import SSN2DTopoV1_ONOFF_local\n",
    "from training import new_two_stage_training\n",
    "from parameters import grid_pars, filter_pars, stimuli_pars, sig_pars, ssn_pars, conn_pars_m, conn_pars_s, ssn_layer_pars, conv_pars, training_pars, loss_pars"
   ]
  },
  {
   "cell_type": "code",
   "execution_count": 2,
   "id": "fbb98a99",
   "metadata": {},
   "outputs": [],
   "source": [
    "# Calculate A by using the default find_A function of SSN2DTopoV1_ONOFF_local when A is undefined\n",
    "ssn_mid = SSN2DTopoV1_ONOFF_local(\n",
    "    ssn_pars=ssn_pars, # got c_E and c_I as new parameters\n",
    "    grid_pars=grid_pars,\n",
    "    conn_pars=conn_pars_m,\n",
    "    filter_pars=filter_pars,\n",
    "    J_2x2 = ssn_layer_pars.J_2x2_m,\n",
    "    gE = ssn_layer_pars.gE_m, \n",
    "    gI = ssn_layer_pars.gE_s\n",
    ")\n",
    "\n",
    "ssn_pars.A = ssn_mid.A\n",
    "if ssn_pars.phases == 4:\n",
    "    ssn_pars.A2 = ssn_mid.A2\n",
    "\n",
    "####################### TRAINING PARAMETERS #############################\n",
    "constant_ssn_pars = dict(\n",
    "    ssn_pars=ssn_pars,\n",
    "    grid_pars=grid_pars,\n",
    "    conn_pars_m=conn_pars_m,\n",
    "    conn_pars_s=conn_pars_s,\n",
    "    gE=ssn_layer_pars.gE,\n",
    "    gI=ssn_layer_pars.gI,\n",
    "    filter_pars=filter_pars,\n",
    "    conv_pars=conv_pars,# this got a lot of new stuff in it that might be a problem\n",
    "    loss_pars=loss_pars,\n",
    "    noise_type=\"poisson\",\n",
    ")"
   ]
  },
  {
   "cell_type": "code",
   "execution_count": 3,
   "id": "6c5b134b",
   "metadata": {},
   "outputs": [
    {
     "name": "stdout",
     "output_type": "stream",
     "text": [
      "New orientation map created for the middle layer.\n",
      "#### NOT SAVING! ####\n"
     ]
    },
    {
     "ename": "TypeError",
     "evalue": "_SSN_Base.fixed_point_r() got an unexpected keyword argument 'verbose'",
     "output_type": "error",
     "traceback": [
      "\u001b[1;31m---------------------------------------------------------------------------\u001b[0m",
      "\u001b[1;31mTypeError\u001b[0m                                 Traceback (most recent call last)",
      "\u001b[1;32mc:\\Users\\jozsa\\Desktop\\Postdoc 2023-24\\ABL-MJ\\training_example_plain.ipynb Cell 3\u001b[0m line \u001b[0;36m1\n\u001b[0;32m      <a href='vscode-notebook-cell:/c%3A/Users/jozsa/Desktop/Postdoc%202023-24/ABL-MJ/training_example_plain.ipynb#W2sZmlsZQ%3D%3D?line=0'>1</a>\u001b[0m \u001b[39m########### TRAINING ############\u001b[39;00m\n\u001b[0;32m      <a href='vscode-notebook-cell:/c%3A/Users/jozsa/Desktop/Postdoc%202023-24/ABL-MJ/training_example_plain.ipynb#W2sZmlsZQ%3D%3D?line=1'>2</a>\u001b[0m ([ssn_layer_pars_dict, readout_pars],\n\u001b[0;32m      <a href='vscode-notebook-cell:/c%3A/Users/jozsa/Desktop/Postdoc%202023-24/ABL-MJ/training_example_plain.ipynb#W2sZmlsZQ%3D%3D?line=2'>3</a>\u001b[0m     val_loss_per_epoch,\n\u001b[0;32m      <a href='vscode-notebook-cell:/c%3A/Users/jozsa/Desktop/Postdoc%202023-24/ABL-MJ/training_example_plain.ipynb#W2sZmlsZQ%3D%3D?line=3'>4</a>\u001b[0m     training_losses,\n\u001b[0;32m      <a href='vscode-notebook-cell:/c%3A/Users/jozsa/Desktop/Postdoc%202023-24/ABL-MJ/training_example_plain.ipynb#W2sZmlsZQ%3D%3D?line=4'>5</a>\u001b[0m     training_accs,\n\u001b[0;32m      <a href='vscode-notebook-cell:/c%3A/Users/jozsa/Desktop/Postdoc%202023-24/ABL-MJ/training_example_plain.ipynb#W2sZmlsZQ%3D%3D?line=5'>6</a>\u001b[0m     train_sig_inputs,\n\u001b[0;32m      <a href='vscode-notebook-cell:/c%3A/Users/jozsa/Desktop/Postdoc%202023-24/ABL-MJ/training_example_plain.ipynb#W2sZmlsZQ%3D%3D?line=6'>7</a>\u001b[0m     train_sig_outputs,\n\u001b[0;32m      <a href='vscode-notebook-cell:/c%3A/Users/jozsa/Desktop/Postdoc%202023-24/ABL-MJ/training_example_plain.ipynb#W2sZmlsZQ%3D%3D?line=7'>8</a>\u001b[0m     val_sig_inputs,\n\u001b[0;32m      <a href='vscode-notebook-cell:/c%3A/Users/jozsa/Desktop/Postdoc%202023-24/ABL-MJ/training_example_plain.ipynb#W2sZmlsZQ%3D%3D?line=8'>9</a>\u001b[0m     val_sig_outputs,\n\u001b[0;32m     <a href='vscode-notebook-cell:/c%3A/Users/jozsa/Desktop/Postdoc%202023-24/ABL-MJ/training_example_plain.ipynb#W2sZmlsZQ%3D%3D?line=9'>10</a>\u001b[0m     epoch_c,\n\u001b[1;32m---> <a href='vscode-notebook-cell:/c%3A/Users/jozsa/Desktop/Postdoc%202023-24/ABL-MJ/training_example_plain.ipynb#W2sZmlsZQ%3D%3D?line=10'>11</a>\u001b[0m     save_w_sigs) \u001b[39m=\u001b[39m new_two_stage_training(\n\u001b[0;32m     <a href='vscode-notebook-cell:/c%3A/Users/jozsa/Desktop/Postdoc%202023-24/ABL-MJ/training_example_plain.ipynb#W2sZmlsZQ%3D%3D?line=11'>12</a>\u001b[0m     ssn_layer_pars,\n\u001b[0;32m     <a href='vscode-notebook-cell:/c%3A/Users/jozsa/Desktop/Postdoc%202023-24/ABL-MJ/training_example_plain.ipynb#W2sZmlsZQ%3D%3D?line=12'>13</a>\u001b[0m     sig_pars,\n\u001b[0;32m     <a href='vscode-notebook-cell:/c%3A/Users/jozsa/Desktop/Postdoc%202023-24/ABL-MJ/training_example_plain.ipynb#W2sZmlsZQ%3D%3D?line=13'>14</a>\u001b[0m     training_pars,\n\u001b[0;32m     <a href='vscode-notebook-cell:/c%3A/Users/jozsa/Desktop/Postdoc%202023-24/ABL-MJ/training_example_plain.ipynb#W2sZmlsZQ%3D%3D?line=14'>15</a>\u001b[0m     constant_ssn_pars,\n\u001b[0;32m     <a href='vscode-notebook-cell:/c%3A/Users/jozsa/Desktop/Postdoc%202023-24/ABL-MJ/training_example_plain.ipynb#W2sZmlsZQ%3D%3D?line=15'>16</a>\u001b[0m     stimuli_pars,\n\u001b[0;32m     <a href='vscode-notebook-cell:/c%3A/Users/jozsa/Desktop/Postdoc%202023-24/ABL-MJ/training_example_plain.ipynb#W2sZmlsZQ%3D%3D?line=16'>17</a>\u001b[0m     extra_stop\u001b[39m=\u001b[39;49m\u001b[39m2\u001b[39;49m,\n\u001b[0;32m     <a href='vscode-notebook-cell:/c%3A/Users/jozsa/Desktop/Postdoc%202023-24/ABL-MJ/training_example_plain.ipynb#W2sZmlsZQ%3D%3D?line=17'>18</a>\u001b[0m )\n",
      "File \u001b[1;32mc:\\Users\\jozsa\\Desktop\\Postdoc 2023-24\\ABL-MJ\\training.py:142\u001b[0m, in \u001b[0;36mnew_two_stage_training\u001b[1;34m(ssn_layer_pars, sigm_pars, training_pars, constant_ssn_pars, stimuli_pars, results_filename, second_eta, test_size, early_stop, extra_stop, ssn_ori_map)\u001b[0m\n\u001b[0;32m    131\u001b[0m constant_ssn_pars \u001b[39m=\u001b[39m generate_noise(\n\u001b[0;32m    132\u001b[0m     constant_ssn_pars,\n\u001b[0;32m    133\u001b[0m     sig_noise\u001b[39m=\u001b[39msig_noise,\n\u001b[0;32m    134\u001b[0m     batch_size\u001b[39m=\u001b[39mbatch_size,\n\u001b[0;32m    135\u001b[0m     length\u001b[39m=\u001b[39mw_sig\u001b[39m.\u001b[39mshape[\u001b[39m0\u001b[39m],\n\u001b[0;32m    136\u001b[0m )\n\u001b[0;32m    138\u001b[0m \u001b[39m# Compute loss and gradient\u001b[39;00m\n\u001b[0;32m    139\u001b[0m [\n\u001b[0;32m    140\u001b[0m     epoch_loss,\n\u001b[0;32m    141\u001b[0m     [epoch_all_losses, train_true_acc, train_delta_x, train_x, train_r_ref],\n\u001b[1;32m--> 142\u001b[0m ], grad \u001b[39m=\u001b[39m loss_and_grad_readout(\n\u001b[0;32m    143\u001b[0m     ssn_layer_pars_dict, readout_pars, constant_ssn_pars, train_data, debug_flag\n\u001b[0;32m    144\u001b[0m )\n\u001b[0;32m    146\u001b[0m training_losses\u001b[39m.\u001b[39mappend(epoch_loss)\n\u001b[0;32m    147\u001b[0m \u001b[39mif\u001b[39;00m epoch \u001b[39m==\u001b[39m \u001b[39m0\u001b[39m:\n",
      "    \u001b[1;31m[... skipping hidden 8 frame]\u001b[0m\n",
      "File \u001b[1;32mc:\\Users\\jozsa\\Desktop\\Postdoc 2023-24\\ABL-MJ\\training_supp.py:466\u001b[0m, in \u001b[0;36mloss\u001b[1;34m(ssn_layer_pars, readout_pars, constant_ssn_pars, data, debug_flag)\u001b[0m\n\u001b[0;32m    457\u001b[0m \u001b[39mdef\u001b[39;00m \u001b[39mloss\u001b[39m(ssn_layer_pars, readout_pars, constant_ssn_pars, data, debug_flag\u001b[39m=\u001b[39m\u001b[39mFalse\u001b[39;00m):\n\u001b[0;32m    458\u001b[0m \u001b[39m    \u001b[39m\u001b[39m\"\"\"\u001b[39;00m\n\u001b[0;32m    459\u001b[0m \u001b[39m    Function to take gradient with respect to. Output returned as two variables (jax grad takes gradient with respect to first output)\u001b[39;00m\n\u001b[0;32m    460\u001b[0m \u001b[39m    Inputs:\u001b[39;00m\n\u001b[1;32m   (...)\u001b[0m\n\u001b[0;32m    463\u001b[0m \u001b[39m        total loss to take gradient with respect to\u001b[39;00m\n\u001b[0;32m    464\u001b[0m \u001b[39m    \"\"\"\u001b[39;00m\n\u001b[1;32m--> 466\u001b[0m     total_loss, all_losses, pred_label, sig_input, x, max_rates \u001b[39m=\u001b[39m model(\n\u001b[0;32m    467\u001b[0m         ssn_layer_pars\u001b[39m=\u001b[39;49mssn_layer_pars,\n\u001b[0;32m    468\u001b[0m         readout_pars\u001b[39m=\u001b[39;49mreadout_pars,\n\u001b[0;32m    469\u001b[0m         constant_ssn_pars\u001b[39m=\u001b[39;49mconstant_ssn_pars,\n\u001b[0;32m    470\u001b[0m         data\u001b[39m=\u001b[39;49mdata,\n\u001b[0;32m    471\u001b[0m         debug_flag\u001b[39m=\u001b[39;49mdebug_flag,\n\u001b[0;32m    472\u001b[0m     )\n\u001b[0;32m    473\u001b[0m     loss \u001b[39m=\u001b[39m np\u001b[39m.\u001b[39mmean(total_loss)\n\u001b[0;32m    474\u001b[0m     all_losses \u001b[39m=\u001b[39m np\u001b[39m.\u001b[39mmean(all_losses, axis\u001b[39m=\u001b[39m\u001b[39m0\u001b[39m)\n",
      "File \u001b[1;32mc:\\Users\\jozsa\\Desktop\\Postdoc 2023-24\\ABL-MJ\\training_supp.py:454\u001b[0m, in \u001b[0;36mmodel\u001b[1;34m(ssn_layer_pars, readout_pars, constant_ssn_pars, data, debug_flag)\u001b[0m\n\u001b[0;32m    451\u001b[0m noise_type \u001b[39m=\u001b[39m constant_ssn_pars[\u001b[39m'\u001b[39m\u001b[39mnoise_type\u001b[39m\u001b[39m'\u001b[39m]\n\u001b[0;32m    452\u001b[0m train_ori \u001b[39m=\u001b[39m constant_ssn_pars[\u001b[39m'\u001b[39m\u001b[39mtrain_ori\u001b[39m\u001b[39m'\u001b[39m]\n\u001b[1;32m--> 454\u001b[0m \u001b[39mreturn\u001b[39;00m vmap_model_jit(logJ_2x2, logs_2x2, c_E, c_I, f_E, f_I, w_sig, b_sig, sigma_oris, kappa_pre, kappa_post, ssn_mid_ori_map, ssn_mid_ori_map, data, ssn_pars, grid_pars, conn_pars_m, conn_pars_s, gE_m, gI_m, gE_s, gI_s, filter_pars, conv_pars, loss_pars, noise_ref, noise_target, noise_type, train_ori, debug_flag)\n",
      "    \u001b[1;31m[... skipping hidden 15 frame]\u001b[0m\n",
      "File \u001b[1;32mc:\\Users\\jozsa\\Desktop\\Postdoc 2023-24\\ABL-MJ\\training_supp.py:354\u001b[0m, in \u001b[0;36m_new_model\u001b[1;34m(logJ_2x2, logs_2x2, c_E, c_I, f_E, f_I, w_sig, b_sig, sigma_oris, kappa_pre, kappa_post, ssn_mid_ori_map, ssn_sup_ori_map, train_data, ssn_pars, grid_pars, conn_pars_m, conn_pars_s, gE_m, gI_m, gE_s, gI_s, filter_pars, conv_pars, loss_pars, noise_ref, noise_target, noise_type, train_ori, debug_flag)\u001b[0m\n\u001b[0;32m    351\u001b[0m SSN_input_target \u001b[39m=\u001b[39m np\u001b[39m.\u001b[39mmaximum(\u001b[39m0\u001b[39m, output_target) \u001b[39m+\u001b[39m constant_vector\n\u001b[0;32m    353\u001b[0m \u001b[39m#Find fixed point for middle layer\u001b[39;00m\n\u001b[1;32m--> 354\u001b[0m r_ref_mid, r_max_ref_mid, avg_dx_ref_mid, _, max_E_mid, max_I_mid \u001b[39m=\u001b[39m middle_layer_fixed_point(ssn_mid, SSN_input_ref, conv_pars, return_fp \u001b[39m=\u001b[39;49m \u001b[39mTrue\u001b[39;49;00m)\n\u001b[0;32m    355\u001b[0m r_target_mid, r_max_target_mid, avg_dx_target_mid \u001b[39m=\u001b[39m middle_layer_fixed_point(ssn_mid, SSN_input_target, conv_pars)\n\u001b[0;32m    357\u001b[0m \u001b[39m#Input to superficial layer\u001b[39;00m\n",
      "File \u001b[1;32mc:\\Users\\jozsa\\Desktop\\Postdoc 2023-24\\ABL-MJ\\training_supp.py:268\u001b[0m, in \u001b[0;36mmiddle_layer_fixed_point\u001b[1;34m(ssn, ssn_input, conv_pars, Rmax_E, Rmax_I, inhibition, PLOT, save, inds, return_fp, print_dt)\u001b[0m\n\u001b[0;32m    255\u001b[0m \u001b[39mdef\u001b[39;00m \u001b[39mmiddle_layer_fixed_point\u001b[39m(\n\u001b[0;32m    256\u001b[0m     ssn,\n\u001b[0;32m    257\u001b[0m     ssn_input,\n\u001b[1;32m   (...)\u001b[0m\n\u001b[0;32m    266\u001b[0m     print_dt\u001b[39m=\u001b[39m\u001b[39mFalse\u001b[39;00m,\n\u001b[0;32m    267\u001b[0m ):\n\u001b[1;32m--> 268\u001b[0m     fp, avg_dx \u001b[39m=\u001b[39m obtain_fixed_point(\n\u001b[0;32m    269\u001b[0m         ssn\u001b[39m=\u001b[39;49mssn,\n\u001b[0;32m    270\u001b[0m         ssn_input\u001b[39m=\u001b[39;49mssn_input,\n\u001b[0;32m    271\u001b[0m         conv_pars\u001b[39m=\u001b[39;49mconv_pars,\n\u001b[0;32m    272\u001b[0m         PLOT\u001b[39m=\u001b[39;49mPLOT,\n\u001b[0;32m    273\u001b[0m         save\u001b[39m=\u001b[39;49msave,\n\u001b[0;32m    274\u001b[0m         inds\u001b[39m=\u001b[39;49minds,\n\u001b[0;32m    275\u001b[0m         print_dt\u001b[39m=\u001b[39;49mprint_dt,\n\u001b[0;32m    276\u001b[0m     )\n\u001b[0;32m    278\u001b[0m     \u001b[39m# Add responses from E and I neurons\u001b[39;00m\n\u001b[0;32m    279\u001b[0m     fp_E_on \u001b[39m=\u001b[39m ssn\u001b[39m.\u001b[39mselect_type(fp, map_number\u001b[39m=\u001b[39m\u001b[39m1\u001b[39m)\n",
      "File \u001b[1;32mc:\\Users\\jozsa\\Desktop\\Postdoc 2023-24\\ABL-MJ\\training_supp.py:107\u001b[0m, in \u001b[0;36mobtain_fixed_point\u001b[1;34m(ssn, ssn_input, conv_pars, PLOT, save, inds, print_dt)\u001b[0m\n\u001b[0;32m     93\u001b[0m     fp, avg_dx \u001b[39m=\u001b[39m ssn\u001b[39m.\u001b[39mfixed_point_r_plot(\n\u001b[0;32m     94\u001b[0m         ssn_input,\n\u001b[0;32m     95\u001b[0m         r_init\u001b[39m=\u001b[39mr_init,\n\u001b[1;32m   (...)\u001b[0m\n\u001b[0;32m    104\u001b[0m         print_dt\u001b[39m=\u001b[39mprint_dt,\n\u001b[0;32m    105\u001b[0m     )\n\u001b[0;32m    106\u001b[0m \u001b[39melse\u001b[39;00m:\n\u001b[1;32m--> 107\u001b[0m     fp, _, avg_dx \u001b[39m=\u001b[39m ssn\u001b[39m.\u001b[39;49mfixed_point_r(\n\u001b[0;32m    108\u001b[0m         ssn_input,\n\u001b[0;32m    109\u001b[0m         r_init\u001b[39m=\u001b[39;49mr_init,\n\u001b[0;32m    110\u001b[0m         dt\u001b[39m=\u001b[39;49mdt,\n\u001b[0;32m    111\u001b[0m         xtol\u001b[39m=\u001b[39;49mxtol,\n\u001b[0;32m    112\u001b[0m         Tmax\u001b[39m=\u001b[39;49mTmax,\n\u001b[0;32m    113\u001b[0m         verbose\u001b[39m=\u001b[39;49mverbose,\n\u001b[0;32m    114\u001b[0m         silent\u001b[39m=\u001b[39;49msilent,\n\u001b[0;32m    115\u001b[0m         PLOT\u001b[39m=\u001b[39;49mPLOT,\n\u001b[0;32m    116\u001b[0m         save\u001b[39m=\u001b[39;49msave,\n\u001b[0;32m    117\u001b[0m     )\n\u001b[0;32m    119\u001b[0m avg_dx \u001b[39m=\u001b[39m np\u001b[39m.\u001b[39mmaximum(\u001b[39m0\u001b[39m, (avg_dx \u001b[39m-\u001b[39m \u001b[39m1\u001b[39m))\n\u001b[0;32m    121\u001b[0m \u001b[39mreturn\u001b[39;00m fp, avg_dx\n",
      "\u001b[1;31mTypeError\u001b[0m: _SSN_Base.fixed_point_r() got an unexpected keyword argument 'verbose'"
     ]
    }
   ],
   "source": [
    "########### TRAINING ############\n",
    "([ssn_layer_pars_dict, readout_pars],\n",
    "    val_loss_per_epoch,\n",
    "    training_losses,\n",
    "    training_accs,\n",
    "    train_sig_inputs,\n",
    "    train_sig_outputs,\n",
    "    val_sig_inputs,\n",
    "    val_sig_outputs,\n",
    "    epoch_c,\n",
    "    save_w_sigs) = new_two_stage_training(\n",
    "    ssn_layer_pars,\n",
    "    sig_pars,\n",
    "    training_pars,\n",
    "    constant_ssn_pars,\n",
    "    stimuli_pars,\n",
    "    extra_stop=2,\n",
    ")"
   ]
  },
  {
   "cell_type": "code",
   "execution_count": 5,
   "metadata": {},
   "outputs": [
    {
     "name": "stdout",
     "output_type": "stream",
     "text": [
      "[[-0.0085609   0.00859194]\n",
      " [ 0.00856054 -0.00857073]]\n",
      "[[-0.00707686  0.00956553]\n",
      " [ 0.00766134  0.00526994]]\n"
     ]
    }
   ],
   "source": [
    "from util import take_log\n",
    "print(ssn_layer_pars_dict['logJ_2x2'][0]-take_log(ssn_layer_pars.J_2x2_m))\n",
    "print(ssn_layer_pars_dict['logJ_2x2'][1]- take_log(ssn_layer_pars.J_2x2_s))"
   ]
  },
  {
   "cell_type": "code",
   "execution_count": 6,
   "metadata": {},
   "outputs": [
    {
     "data": {
      "text/plain": [
       "\"from util import take_log\\nprint(ssn_layer_pars_dict['logJ_2x2'][0]-take_log(ssn_layer_pars.J_2x2_m))\\nprint(ssn_layer_pars_dict['logJ_2x2'][1]- take_log(ssn_layer_pars.J_2x2_s))\\n\""
      ]
     },
     "execution_count": 6,
     "metadata": {},
     "output_type": "execute_result"
    }
   ],
   "source": [
    "'''from util import take_log\n",
    "print(ssn_layer_pars_dict['logJ_2x2'][0]-take_log(ssn_layer_pars.J_2x2_m))\n",
    "print(ssn_layer_pars_dict['logJ_2x2'][1]- take_log(ssn_layer_pars.J_2x2_s))\n",
    "'''"
   ]
  }
 ],
 "metadata": {
  "kernelspec": {
   "display_name": "Python 3 (ipykernel)",
   "language": "python",
   "name": "python3"
  },
  "language_info": {
   "codemirror_mode": {
    "name": "ipython",
    "version": 3
   },
   "file_extension": ".py",
   "mimetype": "text/x-python",
   "name": "python",
   "nbconvert_exporter": "python",
   "pygments_lexer": "ipython3",
   "version": "3.10.13"
  }
 },
 "nbformat": 4,
 "nbformat_minor": 5
}
