{
 "cells": [
  {
   "cell_type": "code",
   "execution_count": 1,
   "id": "ec31851a-3b4e-4db0-bdad-e2be13979bc0",
   "metadata": {
    "tags": []
   },
   "outputs": [
    {
     "name": "stdout",
     "output_type": "stream",
     "text": [
      "jax backend cpu\n"
     ]
    }
   ],
   "source": [
    "import os\n",
    "os.environ[\"XLA_PYTHON_CLIENT_PREALLOCATE\"] = \"false\"\n",
    "os.environ[\"XLA_PYTHON_CLIENT_MEM_FRACTION\"] = \".XX\"\n",
    "os.environ[\"XLA_PYTHON_CLIENT_ALLOCATOR\"] = \"platform\"\n",
    "from jax.lib import xla_bridge\n",
    "print(\"jax backend {}\".format(xla_bridge.get_backend().platform))\n",
    "\n",
    "from SSN_classes import SSN2DTopoV1_ONOFF_local\n",
    "from training import new_two_stage_training\n",
    "from parameters import grid_pars, filter_pars, stimuli_pars, sig_pars, ssn_pars, conn_pars_m, conn_pars_s, ssn_layer_pars, conv_pars, training_pars, loss_pars"
   ]
  },
  {
   "cell_type": "code",
   "execution_count": 2,
   "id": "fbb98a99",
   "metadata": {},
   "outputs": [],
   "source": [
    "# Calculate A by using the default find_A function of SSN2DTopoV1_ONOFF_local when A is undefined\n",
    "ssn_mid = SSN2DTopoV1_ONOFF_local(\n",
    "    ssn_pars=ssn_pars, # got c_E and c_I as new parameters\n",
    "    grid_pars=grid_pars,\n",
    "    conn_pars=conn_pars_m,\n",
    "    filter_pars=filter_pars,\n",
    "    J_2x2 = ssn_layer_pars.J_2x2_m,\n",
    "    gE = ssn_layer_pars.gE_m, \n",
    "    gI = ssn_layer_pars.gE_s\n",
    ")\n",
    "\n",
    "ssn_pars.A = ssn_mid.A\n",
    "if ssn_pars.phases == 4:\n",
    "    ssn_pars.A2 = ssn_mid.A2\n",
    "\n",
    "####################### TRAINING PARAMETERS #############################\n",
    "constant_ssn_pars = dict(\n",
    "    ssn_pars=ssn_pars,\n",
    "    grid_pars=grid_pars,\n",
    "    conn_pars_m=conn_pars_m,\n",
    "    conn_pars_s=conn_pars_s,\n",
    "    gE=ssn_layer_pars.gE,\n",
    "    gI=ssn_layer_pars.gI,\n",
    "    filter_pars=filter_pars,\n",
    "    conv_pars=conv_pars,# this got a lot of new stuff in it that might be a problem\n",
    "    loss_pars=loss_pars,\n",
    "    noise_type=\"poisson\",\n",
    ")"
   ]
  },
  {
   "cell_type": "code",
   "execution_count": 3,
   "id": "6c5b134b",
   "metadata": {},
   "outputs": [
    {
     "name": "stdout",
     "output_type": "stream",
     "text": [
      "New orientation map created for the middle layer.\n",
      "#### NOT SAVING! ####\n",
      "Training loss: 4.422994136810303 ¦ Validation -- loss: 4.040529727935791, true accuracy: 0.4399999976158142, at epoch 0, (time 18.347585916519165, 0.4893507957458496), \n",
      "Training accuracy: 0.3700000047683716, all losses[[2.4856381]\n",
      " [0.6306164]\n",
      " [0.6381918]\n",
      " [0.6685478]\n",
      " [0.       ]\n",
      " [4.422994 ]]\n",
      "Training loss: 4.048635959625244 ¦ Validation -- loss: 4.242071151733398, true accuracy: 0.33000001311302185, at epoch 1, (time 17.479681968688965, 0.5081815719604492), \n",
      "Training loss: 2.253255844116211 ¦ Validation -- loss: 1.934602975845337, true accuracy: 0.8500000238418579, at epoch 20, (time 1.9721148014068604, 0.4299139976501465), \n",
      "Entering second stage at epoch 20\n",
      "Training loss: 1.863214373588562 ¦ Validation -- loss: 2.1557059288024902, true accuracy: 0.7599999904632568, at epoch 1, (time 1.9721148014068604, 1.790384292602539)\n",
      "Training accuracy: 0.8700000047683716, all losses[[3.0848053e-01]\n",
      " [6.3724339e-01]\n",
      " [6.3786024e-01]\n",
      " [2.7955294e-01]\n",
      " [7.7310004e-05]\n",
      " [1.8632144e+00]]\n",
      "Training loss: 1.1695281267166138 ¦ Validation -- loss: 0.9370269775390625, true accuracy: 0.7200000286102295, at epoch 20, (time 1.9721148014068604, 1.5736870765686035)\n"
     ]
    }
   ],
   "source": [
    "########### TRAINING ############\n",
    "([ssn_layer_pars_dict, readout_pars],\n",
    "    val_loss_per_epoch,\n",
    "    training_losses,\n",
    "    training_accs,\n",
    "    train_sig_inputs,\n",
    "    train_sig_outputs,\n",
    "    val_sig_inputs,\n",
    "    val_sig_outputs,\n",
    "    epoch_c,\n",
    "    save_w_sigs) = new_two_stage_training(\n",
    "    ssn_layer_pars,\n",
    "    sig_pars,\n",
    "    training_pars,\n",
    "    constant_ssn_pars,\n",
    "    stimuli_pars,\n",
    "    extra_stop=2,\n",
    ")"
   ]
  },
  {
   "cell_type": "code",
   "execution_count": 4,
   "metadata": {},
   "outputs": [
    {
     "name": "stdout",
     "output_type": "stream",
     "text": [
      "[[-0.05716056  0.05614817]\n",
      " [ 0.05472553 -0.05423924]]\n",
      "[[-0.05114603  0.04433024]\n",
      " [ 0.04405046  0.0720316 ]]\n"
     ]
    }
   ],
   "source": [
    "from util import take_log\n",
    "print(ssn_layer_pars_dict['logJ_2x2'][0]-take_log(ssn_layer_pars.J_2x2_m))\n",
    "print(ssn_layer_pars_dict['logJ_2x2'][1]- take_log(ssn_layer_pars.J_2x2_s))"
   ]
  }
 ],
 "metadata": {
  "kernelspec": {
   "display_name": "Python 3 (ipykernel)",
   "language": "python",
   "name": "python3"
  },
  "language_info": {
   "codemirror_mode": {
    "name": "ipython",
    "version": 3
   },
   "file_extension": ".py",
   "mimetype": "text/x-python",
   "name": "python",
   "nbconvert_exporter": "python",
   "pygments_lexer": "ipython3",
   "version": "3.10.13"
  }
 },
 "nbformat": 4,
 "nbformat_minor": 5
}
