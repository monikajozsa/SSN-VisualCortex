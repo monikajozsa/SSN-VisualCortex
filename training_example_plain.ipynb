{
 "cells": [
  {
   "cell_type": "code",
   "execution_count": 1,
   "id": "ec31851a-3b4e-4db0-bdad-e2be13979bc0",
   "metadata": {
    "tags": []
   },
   "outputs": [
    {
     "name": "stdout",
     "output_type": "stream",
     "text": [
      "jax backend cpu\n"
     ]
    }
   ],
   "source": [
    "import os\n",
    "os.environ[\"XLA_PYTHON_CLIENT_PREALLOCATE\"] = \"false\"\n",
    "os.environ[\"XLA_PYTHON_CLIENT_MEM_FRACTION\"] = \".XX\"\n",
    "os.environ[\"XLA_PYTHON_CLIENT_ALLOCATOR\"] = \"platform\"\n",
    "from jax.lib import xla_bridge\n",
    "print(\"jax backend {}\".format(xla_bridge.get_backend().platform))\n",
    "\n",
    "from SSN_classes import SSN_mid_local\n",
    "from training import train_model"
   ]
  },
  {
   "cell_type": "code",
   "execution_count": 2,
   "id": "fbb98a99",
   "metadata": {},
   "outputs": [
    {
     "name": "stdout",
     "output_type": "stream",
     "text": [
      "Files copied successfully to: results/Nov23_v0\n",
      "Files copied successfully to: results/Nov23_v1\n",
      "Training model for 20 epochs  with learning rate 0.001, sig_noise 2.0 at offset 4.0, lam_w 1, batch size 50, noise_type poisson\n",
      "Saving results to csv  results/Nov23_v1\\results.csv\n",
      "Training loss: 1.6037598848342896 ¦ Validation -- loss: 1.3124967813491821, true accuracy: 0.5799999833106995, at epoch 1, (time 53.552123069763184, 0.4602620601654053), \n",
      "Training loss: 1.462250828742981 ¦ Validation -- loss: 1.6904652118682861, true accuracy: 0.46000000834465027, at epoch 6, (time 1.8416569232940674, 0.8827865123748779), \n",
      "Training loss: 1.2602494955062866 ¦ Validation -- loss: 1.4675003290176392, true accuracy: 0.5400000214576721, at epoch 13, (time 1.189713478088379, 0.5517909526824951), \n",
      "Training loss: 1.4688515663146973 ¦ Validation -- loss: 1.4429302215576172, true accuracy: 0.5, at epoch 20, (time 1.429305076599121, 0.5559267997741699), \n",
      "Entering second stage at epoch 20\n",
      "Training loss: 1.2642476558685303 ¦ Validation -- loss: 1.214581847190857, true accuracy: 0.5600000023841858, at epoch 1, (time 1.429305076599121, 2.0023655891418457)\n",
      "Training accuracy: 0.5199999809265137, all losses[[8.6321926e-01]\n",
      " [9.3562983e-02]\n",
      " [2.7192318e-01]\n",
      " [3.5526808e-02]\n",
      " [1.5505597e-05]\n",
      " [1.2642477e+00]]\n",
      "Training loss: 0.9469984173774719 ¦ Validation -- loss: 1.0187625885009766, true accuracy: 0.5799999833106995, at epoch 6, (time 1.429305076599121, 2.966594696044922)\n",
      "Training loss: 1.1532379388809204 ¦ Validation -- loss: 0.85544753074646, true accuracy: 0.7400000095367432, at epoch 13, (time 1.429305076599121, 2.9797327518463135)\n",
      "Training loss: 1.0414738655090332 ¦ Validation -- loss: 1.2586716413497925, true accuracy: 0.3799999952316284, at epoch 20, (time 1.429305076599121, 2.648568630218506)\n"
     ]
    }
   ],
   "source": [
    "import jax.numpy as np\n",
    "\n",
    "from parameters import grid_pars, filter_pars, stimuli_pars, sig_pars, ssn_pars, conn_pars_m, conn_pars_s, ssn_layer_pars, conv_pars, training_pars, loss_pars\n",
    "\n",
    "# check where A2 is defined in Clara's code\n",
    "ssn_ori_map_loaded = np.load(os.path.join(os.getcwd(), 'ssn_map_uniform_good.npy'))\n",
    "#Find normalization constant of Gabor filters\n",
    "ssn_mid=SSN_mid_local(ssn_pars=ssn_pars, grid_pars=grid_pars, conn_pars=conn_pars_m, filter_pars=filter_pars, J_2x2= ssn_layer_pars.J_2x2_m, gE = ssn_layer_pars.gE_m, gI=ssn_layer_pars.gI_m, ori_map = ssn_ori_map_loaded)\n",
    "ssn_pars.A = ssn_mid.A\n",
    "ssn_pars.A2 = ssn_mid.A2\n",
    "####################### TRAINING PARAMETERS #############################\n",
    "#Collect constant parameters into single class\n",
    "class constant_pars:\n",
    "    ssn_pars = ssn_pars\n",
    "    s_2x2 = ssn_layer_pars.s_2x2_s\n",
    "    sigma_oris = ssn_layer_pars.sigma_oris\n",
    "    grid_pars = grid_pars\n",
    "    conn_pars_m = conn_pars_m\n",
    "    conn_pars_s = conn_pars_s\n",
    "    gE = ssn_layer_pars.gE\n",
    "    gI = ssn_layer_pars.gI\n",
    "    filter_pars = filter_pars\n",
    "    noise_type = 'poisson'\n",
    "    ssn_ori_map = ssn_ori_map_loaded\n",
    "    ref_ori = stimuli_pars.ref_ori\n",
    "    \n",
    "readout_pars = dict(w_sig = sig_pars.w_sig, b_sig = sig_pars.b_sig)\n",
    "ssn_layer_pars = dict(J_2x2_m = ssn_layer_pars.J_2x2_m, J_2x2_s = ssn_layer_pars.J_2x2_s, c_E = ssn_layer_pars.c_E, c_I = ssn_layer_pars.c_I, f_E = ssn_layer_pars.f_E, f_I = ssn_layer_pars.f_I, kappa_pre = ssn_layer_pars.kappa_pre, kappa_post = ssn_layer_pars.kappa_post)\n",
    "\n",
    "########### TRAINING ############\n",
    "from save_code import save_code\n",
    "results_dir = save_code()\n",
    "file_name = 'results.csv'\n",
    "results_filename = os.path.join(results_dir,file_name)\n",
    "(\n",
    "        [ssn_layer_pars, readout_pars],\n",
    "        val_loss_per_epoch,\n",
    "        all_losses,\n",
    "        train_accs,\n",
    "        train_sig_input,\n",
    "        train_sig_output,\n",
    "        val_sig_input,\n",
    "        val_sig_output,\n",
    "        epochs_plot,\n",
    "        save_w_sigs,\n",
    "    ) = train_model(\n",
    "    ssn_layer_pars,\n",
    "    readout_pars,\n",
    "    constant_pars,\n",
    "    conv_pars,\n",
    "    loss_pars,\n",
    "    training_pars,\n",
    "    stimuli_pars,\n",
    "    results_filename\n",
    ")\n"
   ]
  },
  {
   "cell_type": "code",
   "execution_count": 3,
   "metadata": {},
   "outputs": [
    {
     "name": "stdout",
     "output_type": "stream",
     "text": [
      "[[0.64614874 0.0206267 ]\n",
      " [1.3055052  0.51773465]]\n"
     ]
    }
   ],
   "source": [
    "print(ssn_layer_pars['J_2x2_m'])"
   ]
  }
 ],
 "metadata": {
  "kernelspec": {
   "display_name": "Python 3 (ipykernel)",
   "language": "python",
   "name": "python3"
  },
  "language_info": {
   "codemirror_mode": {
    "name": "ipython",
    "version": 3
   },
   "file_extension": ".py",
   "mimetype": "text/x-python",
   "name": "python",
   "nbconvert_exporter": "python",
   "pygments_lexer": "ipython3",
   "version": "3.10.13"
  }
 },
 "nbformat": 4,
 "nbformat_minor": 5
}
