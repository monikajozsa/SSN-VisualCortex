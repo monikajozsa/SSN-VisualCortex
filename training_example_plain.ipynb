{
 "cells": [
  {
   "cell_type": "code",
   "execution_count": 2,
   "id": "ec31851a-3b4e-4db0-bdad-e2be13979bc0",
   "metadata": {
    "tags": []
   },
   "outputs": [
    {
     "name": "stdout",
     "output_type": "stream",
     "text": [
      "jax backend cpu\n"
     ]
    }
   ],
   "source": [
    "import os\n",
    "os.environ[\"XLA_PYTHON_CLIENT_PREALLOCATE\"] = \"false\"\n",
    "os.environ[\"XLA_PYTHON_CLIENT_MEM_FRACTION\"] = \".XX\"\n",
    "os.environ[\"XLA_PYTHON_CLIENT_ALLOCATOR\"] = \"platform\"\n",
    "from jax.lib import xla_bridge\n",
    "print(\"jax backend {}\".format(xla_bridge.get_backend().platform))\n",
    "\n",
    "from SSN_classes import SSN2DTopoV1_ONOFF_local\n",
    "from training import new_two_stage_training\n",
    "from parameters import grid_pars, filter_pars, stimuli_pars, sig_pars, ssn_pars, conn_pars_m, conn_pars_s, ssn_layer_pars, conv_pars, training_pars, loss_pars"
   ]
  },
  {
   "cell_type": "code",
   "execution_count": 3,
   "id": "fbb98a99",
   "metadata": {},
   "outputs": [],
   "source": [
    "# Calculate A by using the default find_A function of SSN2DTopoV1_ONOFF_local when A is undefined\n",
    "ssn_mid = SSN2DTopoV1_ONOFF_local(\n",
    "    ssn_pars=ssn_pars, # got c_E and c_I as new parameters\n",
    "    grid_pars=grid_pars,\n",
    "    conn_pars=conn_pars_m,\n",
    "    filter_pars=filter_pars,\n",
    "    J_2x2 = ssn_layer_pars.J_2x2_m,\n",
    "    gE = ssn_layer_pars.gE_m, \n",
    "    gI = ssn_layer_pars.gE_s\n",
    ")\n",
    "\n",
    "ssn_pars.A = ssn_mid.A\n",
    "if ssn_pars.phases == 4:\n",
    "    ssn_pars.A2 = ssn_mid.A2\n",
    "\n",
    "####################### TRAINING PARAMETERS #############################\n",
    "constant_ssn_pars = dict(\n",
    "    ssn_pars=ssn_pars,\n",
    "    grid_pars=grid_pars,\n",
    "    conn_pars_m=conn_pars_m,\n",
    "    conn_pars_s=conn_pars_s,\n",
    "    gE=ssn_layer_pars.gE,\n",
    "    gI=ssn_layer_pars.gI,\n",
    "    filter_pars=filter_pars,\n",
    "    conv_pars=conv_pars,# this got a lot of new stuff in it that might be a problem\n",
    "    loss_pars=loss_pars,\n",
    "    noise_type=\"poisson\",\n",
    ")"
   ]
  },
  {
   "cell_type": "code",
   "execution_count": 4,
   "id": "6c5b134b",
   "metadata": {},
   "outputs": [
    {
     "name": "stdout",
     "output_type": "stream",
     "text": [
      "New orientation map created for the middle layer.\n",
      "#### NOT SAVING! ####\n",
      "Training loss: 4.069736957550049 ¦ Validation -- loss: 4.095546722412109, true accuracy: 0.5600000023841858, at epoch 0, (time 9.403754234313965, 0.2467665672302246), \n",
      "Training accuracy: 0.6000000238418579, all losses[[1.5609962 ]\n",
      " [0.23955578]\n",
      " [0.5716085 ]\n",
      " [1.6975765 ]\n",
      " [0.        ]\n",
      " [4.069737  ]]\n",
      "Training loss: 3.54580020904541 ¦ Validation -- loss: 4.438085079193115, true accuracy: 0.5199999809265137, at epoch 1, (time 9.003391981124878, 0.2488875389099121), \n",
      "Training loss: 4.096062660217285 ¦ Validation -- loss: 3.9144368171691895, true accuracy: 0.6200000047683716, at epoch 10, (time 0.6522774696350098, 0.25798845291137695), \n",
      "Entering second stage at epoch 10\n",
      "Training loss: 4.114513874053955 ¦ Validation -- loss: 3.8961174488067627, true accuracy: 0.6000000238418579, at epoch 1, (time 0.6522774696350098, 0.7369890213012695)\n",
      "Training accuracy: 0.5799999833106995, all losses[[1.6755149e+00]\n",
      " [2.3676780e-01]\n",
      " [5.7057339e-01]\n",
      " [1.6316550e+00]\n",
      " [3.3529309e-06]\n",
      " [4.1145139e+00]]\n",
      "Training loss: 3.4551429748535156 ¦ Validation -- loss: 3.4806182384490967, true accuracy: 0.6200000047683716, at epoch 10, (time 0.6522774696350098, 0.7488327026367188)\n"
     ]
    }
   ],
   "source": [
    "########### TRAINING ############\n",
    "([ssn_layer_pars_dict, readout_pars],\n",
    "    val_loss_per_epoch,\n",
    "    training_losses,\n",
    "    training_accs,\n",
    "    train_sig_inputs,\n",
    "    train_sig_outputs,\n",
    "    val_sig_inputs,\n",
    "    val_sig_outputs,\n",
    "    epoch_c,\n",
    "    save_w_sigs) = new_two_stage_training(\n",
    "    ssn_layer_pars,\n",
    "    sig_pars,\n",
    "    training_pars,\n",
    "    constant_ssn_pars,\n",
    "    stimuli_pars,\n",
    "    extra_stop=2,\n",
    ")"
   ]
  },
  {
   "cell_type": "code",
   "execution_count": 5,
   "metadata": {},
   "outputs": [
    {
     "name": "stdout",
     "output_type": "stream",
     "text": [
      "[[-0.0085609   0.00859194]\n",
      " [ 0.00856054 -0.00857073]]\n",
      "[[-0.00707686  0.00956553]\n",
      " [ 0.00766134  0.00526994]]\n"
     ]
    }
   ],
   "source": [
    "from util import take_log\n",
    "print(ssn_layer_pars_dict['logJ_2x2'][0]-take_log(ssn_layer_pars.J_2x2_m))\n",
    "print(ssn_layer_pars_dict['logJ_2x2'][1]- take_log(ssn_layer_pars.J_2x2_s))"
   ]
  },
  {
   "cell_type": "code",
   "execution_count": 6,
   "metadata": {},
   "outputs": [
    {
     "data": {
      "text/plain": [
       "\"from util import take_log\\nprint(ssn_layer_pars_dict['logJ_2x2'][0]-take_log(ssn_layer_pars.J_2x2_m))\\nprint(ssn_layer_pars_dict['logJ_2x2'][1]- take_log(ssn_layer_pars.J_2x2_s))\\n\""
      ]
     },
     "execution_count": 6,
     "metadata": {},
     "output_type": "execute_result"
    }
   ],
   "source": [
    "'''from util import take_log\n",
    "print(ssn_layer_pars_dict['logJ_2x2'][0]-take_log(ssn_layer_pars.J_2x2_m))\n",
    "print(ssn_layer_pars_dict['logJ_2x2'][1]- take_log(ssn_layer_pars.J_2x2_s))\n",
    "'''"
   ]
  }
 ],
 "metadata": {
  "kernelspec": {
   "display_name": "Python 3 (ipykernel)",
   "language": "python",
   "name": "python3"
  },
  "language_info": {
   "codemirror_mode": {
    "name": "ipython",
    "version": 3
   },
   "file_extension": ".py",
   "mimetype": "text/x-python",
   "name": "python",
   "nbconvert_exporter": "python",
   "pygments_lexer": "ipython3",
   "version": "3.10.13"
  }
 },
 "nbformat": 4,
 "nbformat_minor": 5
}
