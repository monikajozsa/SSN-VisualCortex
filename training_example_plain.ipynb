{
 "cells": [
  {
   "cell_type": "code",
   "execution_count": 1,
   "id": "ec31851a-3b4e-4db0-bdad-e2be13979bc0",
   "metadata": {
    "tags": []
   },
   "outputs": [
    {
     "name": "stdout",
     "output_type": "stream",
     "text": [
      "jax backend cpu\n"
     ]
    }
   ],
   "source": [
    "import os\n",
    "os.environ[\"XLA_PYTHON_CLIENT_PREALLOCATE\"] = \"false\"\n",
    "os.environ[\"XLA_PYTHON_CLIENT_MEM_FRACTION\"] = \".XX\"\n",
    "os.environ[\"XLA_PYTHON_CLIENT_ALLOCATOR\"] = \"platform\"\n",
    "from jax.lib import xla_bridge\n",
    "print(\"jax backend {}\".format(xla_bridge.get_backend().platform))\n",
    "\n",
    "from SSN_classes import SSN_mid_local\n",
    "from training import new_two_stage_training\n"
   ]
  },
  {
   "cell_type": "code",
   "execution_count": 2,
   "id": "fbb98a99",
   "metadata": {},
   "outputs": [
    {
     "name": "stdout",
     "output_type": "stream",
     "text": [
      "Loading orientation map\n",
      "#### NOT SAVING! ####\n",
      "Training loss: 1.6277848482131958 ¦ Validation -- loss: 1.4607200622558594, true accuracy: 0.5, at epoch 0, (time 20.67272114753723, 0.3209366798400879), \n",
      "Training accuracy: 0.46000000834465027, all losses[[1.196635  ]\n",
      " [0.09357131]\n",
      " [0.27119902]\n",
      " [0.06637964]\n",
      " [0.        ]\n",
      " [1.6277848 ]]\n",
      "Training loss: 1.559080719947815 ¦ Validation -- loss: 1.601881980895996, true accuracy: 0.41999998688697815, at epoch 1, (time 19.234965562820435, 0.3137853145599365), \n",
      "Training loss: 1.523915410041809 ¦ Validation -- loss: 1.368055820465088, true accuracy: 0.5199999809265137, at epoch 3, (time 0.8002970218658447, 0.30969738960266113), \n",
      "Training loss: 1.1943503618240356 ¦ Validation -- loss: 1.4193984270095825, true accuracy: 0.46000000834465027, at epoch 5, (time 0.7794954776763916, 0.3204319477081299), \n",
      "Entering second stage at epoch 5\n",
      "Training loss: 1.4644416570663452 ¦ Validation -- loss: 1.2910908460617065, true accuracy: 0.5799999833106995, at epoch 1, (time 0.7794954776763916, 1.1139850616455078)\n",
      "Training accuracy: 0.5, all losses[[1.0373249e+00]\n",
      " [9.3571730e-02]\n",
      " [2.7196449e-01]\n",
      " [6.1562326e-02]\n",
      " [1.8260158e-05]\n",
      " [1.4644417e+00]]\n",
      "Training loss: 1.1727157831192017 ¦ Validation -- loss: 1.0356566905975342, true accuracy: 0.5799999833106995, at epoch 3, (time 0.7794954776763916, 1.1936655044555664)\n",
      "Training loss: 1.279963493347168 ¦ Validation -- loss: 1.33839750289917, true accuracy: 0.46000000834465027, at epoch 5, (time 0.7794954776763916, 1.0895140171051025)\n"
     ]
    }
   ],
   "source": [
    "import jax.numpy as np\n",
    "\n",
    "from parameters import grid_pars, filter_pars, stimuli_pars, sig_pars, ssn_pars, conn_pars_m, conn_pars_s, ssn_layer_pars, conv_pars, training_pars, loss_pars\n",
    "\n",
    "'''# Calculate A by using the default find_A function of SSN_mid_local when A is undefined\n",
    "ssn_mid = SSN_mid_local(\n",
    "    ssn_pars=ssn_pars, # got c_E and c_I as new parameters\n",
    "    grid_pars=grid_pars,\n",
    "    conn_pars=conn_pars_m,\n",
    "    filter_pars=filter_pars,\n",
    "    J_2x2 = ssn_layer_pars.J_2x2_m,\n",
    "    gE = ssn_layer_pars.gE_m, \n",
    "    gI = ssn_layer_pars.gE_m\n",
    ")\n",
    "\n",
    "ssn_pars.A = ssn_mid.A\n",
    "if ssn_pars.phases == 4:\n",
    "    ssn_pars.A2 = ssn_mid.A2\n",
    "'''\n",
    "# check where A2 is defined in Clara's code\n",
    "ssn_ori_map_loaded = np.load(os.path.join(os.getcwd(), 'ssn_map_uniform_good.npy'))\n",
    "#Find normalization constant of Gabor filters\n",
    "ssn_mid=SSN_mid_local(ssn_pars=ssn_pars, grid_pars=grid_pars, conn_pars=conn_pars_m, filter_pars=filter_pars, J_2x2= ssn_layer_pars.J_2x2_m, gE = ssn_layer_pars.gE_m, gI=ssn_layer_pars.gI_m, ori_map = ssn_ori_map_loaded)\n",
    "ssn_pars.A = ssn_mid.A\n",
    "ssn_pars.A2 = ssn_mid.A2\n",
    "####################### TRAINING PARAMETERS #############################\n",
    "constant_ssn_pars = dict(\n",
    "    ssn_pars=ssn_pars,\n",
    "    grid_pars=grid_pars,\n",
    "    conn_pars_m=conn_pars_m,\n",
    "    conn_pars_s=conn_pars_s,\n",
    "    gE=ssn_layer_pars.gE,\n",
    "    gI=ssn_layer_pars.gI,\n",
    "    filter_pars=filter_pars,\n",
    "    conv_pars=conv_pars,# this got a lot of new stuff in it that might be a problem\n",
    "    loss_pars=loss_pars,\n",
    "    noise_type=\"poisson\",\n",
    ")\n",
    "########### TRAINING ############\n",
    "([ssn_layer_pars_dict, readout_pars],\n",
    "    val_loss_per_epoch,\n",
    "    training_losses,\n",
    "    training_accs,\n",
    "    train_sig_inputs,\n",
    "    train_sig_outputs,\n",
    "    val_sig_inputs,\n",
    "    val_sig_outputs,\n",
    "    epoch_c,\n",
    "    save_w_sigs) = new_two_stage_training(\n",
    "    ssn_layer_pars,\n",
    "    sig_pars,\n",
    "    training_pars,\n",
    "    constant_ssn_pars,\n",
    "    stimuli_pars,\n",
    "    extra_stop=2,\n",
    "    ssn_ori_map=ssn_ori_map_loaded\n",
    "    )"
   ]
  },
  {
   "cell_type": "code",
   "execution_count": 3,
   "metadata": {},
   "outputs": [
    {
     "name": "stdout",
     "output_type": "stream",
     "text": [
      "[[ 1.9254755 -1.0111731]\n",
      " [ 3.65578   -1.6944369]]\n",
      "[[ 1.935     -1.0062   ]\n",
      " [ 3.6377997 -1.7028   ]]\n",
      "[[ 4.4198217 -1.6662824]\n",
      " [ 5.0534315 -1.2356309]]\n",
      "[[ 4.4413204 -1.6582118]\n",
      " [ 5.0289063 -1.2416493]]\n"
     ]
    }
   ],
   "source": [
    "from training_supp import sep_exponentiate\n",
    "print(sep_exponentiate(ssn_layer_pars_dict['logJ_2x2'][0]))\n",
    "print(ssn_layer_pars.J_2x2_m)\n",
    "print(sep_exponentiate(ssn_layer_pars_dict['logJ_2x2'][1]))\n",
    "print(ssn_layer_pars.J_2x2_s)"
   ]
  }
 ],
 "metadata": {
  "kernelspec": {
   "display_name": "Python 3 (ipykernel)",
   "language": "python",
   "name": "python3"
  },
  "language_info": {
   "codemirror_mode": {
    "name": "ipython",
    "version": 3
   },
   "file_extension": ".py",
   "mimetype": "text/x-python",
   "name": "python",
   "nbconvert_exporter": "python",
   "pygments_lexer": "ipython3",
   "version": "3.10.13"
  }
 },
 "nbformat": 4,
 "nbformat_minor": 5
}
